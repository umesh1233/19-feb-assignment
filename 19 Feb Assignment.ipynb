{
 "cells": [
  {
   "cell_type": "code",
   "execution_count": null,
   "id": "0288c859-32d2-44cc-8391-d3c5203b4392",
   "metadata": {},
   "outputs": [],
   "source": [
    "#Q.1:-\n",
    "#Ans:\n",
    "Flask is a micro web framework written in Python.\n",
    "It is classified as a microframework because it does not require particular tools or libraries.\n",
    "\n",
    "Advantages of Flask:-\n",
    "1.It is a lightweight framework that offers hassle-free development.\n",
    "2.Provide flexibility to the developer to experiment with their modules or architecture.\n",
    "3.It is suitable for small projects.\n",
    "4.Offers a built-in development server and fast debugger.\n",
    "5.Easily scalable for the applications.\n",
    "6,Support for secure cookies."
   ]
  },
  {
   "cell_type": "code",
   "execution_count": null,
   "id": "aeafd55c-7bf0-4b09-a8d5-df24f1d97bd5",
   "metadata": {},
   "outputs": [],
   "source": [
    "#Q.2\n",
    "from flask import Flask\n",
    "from flask import request\n",
    "\n",
    "app = Flask(__name__)\n",
    "\n",
    "@app.route(\"/\")\n",
    "def hello_world():\n",
    "    return \"<h1>Hello, World!</h1>\"\n",
    "if __name__==\"__main__\":\n",
    "    app.run(host=\"0.0.0.0\")\n",
    " "
   ]
  },
  {
   "cell_type": "code",
   "execution_count": null,
   "id": "7911dd54-c7f9-4ed1-9210-d0191650b81b",
   "metadata": {},
   "outputs": [],
   "source": [
    "#Q.3\n",
    "App routing is used to map the specific URL with the associated function that is intended to perform some task.\n",
    "It is used to access some particular page like Flask Tutorial in the web application."
   ]
  },
  {
   "cell_type": "code",
   "execution_count": null,
   "id": "e2db9a03-52a9-448f-9cf1-0b0dd390ce12",
   "metadata": {},
   "outputs": [],
   "source": [
    "#Q.4\n",
    "from flask import Flask\n",
    "from flask import request\n",
    "\n",
    "app = Flask(__name__)\n",
    "\n",
    "@app.route(\"/\")\n",
    "def hello_world():\n",
    "    return \"<h1>Hello, World!</h1>\"\n",
    "\n",
    "\n",
    "@app.route(\"/welcome\")\n",
    "def welcome():\n",
    "    return \"<h1>Welcome to ABC corporation</h1>\"\n",
    "\n",
    "@app.route(\"/\")\n",
    "def hello_world2():\n",
    "    return \"<h1>Company Name: ABC Corporation ,Location: India ,Contact Detail: 999-999-9999</h1>\"\n",
    "\n",
    "if __name__==\"__main__\":\n",
    "    app.run(host=\"0.0.0.0\")\n"
   ]
  },
  {
   "cell_type": "code",
   "execution_count": null,
   "id": "1e8252d1-03fa-4749-884a-2343f4cd312d",
   "metadata": {},
   "outputs": [],
   "source": [
    "#Q.5\n",
    "The url_for() function is used to build a URL to the specific function dynamically. \n",
    "The first argument is the name of the specified function,\n",
    "and then we can pass any number of keyword argument corresponding to the variable part of the URL.\n",
    "\n",
    "\n",
    "from flask import Flask, render_template\n",
    "  \n",
    "app = Flask(__name__)\n",
    "  \n",
    "  \n",
    " @app.route('/')\n",
    "def welcome():\n",
    "    return render_template('sportsmain.html')\n",
    "  \n",
    "  \n",
    " if(__name__ == \"__main__\"):\n",
    "    app.run(debug=True)\n",
    "\n"
   ]
  }
 ],
 "metadata": {
  "kernelspec": {
   "display_name": "Python 3 (ipykernel)",
   "language": "python",
   "name": "python3"
  },
  "language_info": {
   "codemirror_mode": {
    "name": "ipython",
    "version": 3
   },
   "file_extension": ".py",
   "mimetype": "text/x-python",
   "name": "python",
   "nbconvert_exporter": "python",
   "pygments_lexer": "ipython3",
   "version": "3.10.8"
  }
 },
 "nbformat": 4,
 "nbformat_minor": 5
}
